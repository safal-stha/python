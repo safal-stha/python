{
  "nbformat": 4,
  "nbformat_minor": 0,
  "metadata": {
    "colab": {
      "provenance": [],
      "authorship_tag": "ABX9TyPtB3xNPjB6KnZ0OwtC487z",
      "include_colab_link": true
    },
    "kernelspec": {
      "name": "python3",
      "display_name": "Python 3"
    },
    "language_info": {
      "name": "python"
    }
  },
  "cells": [
    {
      "cell_type": "markdown",
      "metadata": {
        "id": "view-in-github",
        "colab_type": "text"
      },
      "source": [
        "<a href=\"https://colab.research.google.com/github/safal-stha/python/blob/main/prg.ipynb\" target=\"_parent\"><img src=\"https://colab.research.google.com/assets/colab-badge.svg\" alt=\"Open In Colab\"/></a>"
      ]
    },
    {
      "cell_type": "code",
      "execution_count": null,
      "metadata": {
        "colab": {
          "base_uri": "https://localhost:8080/"
        },
        "id": "Hc6yWVyAA7Uu",
        "outputId": "8a8af72e-f640-4c2a-abab-abc3bd7aed23"
      },
      "outputs": [
        {
          "output_type": "execute_result",
          "data": {
            "text/plain": [
              "[0, 1, 2, 3, 4]"
            ]
          },
          "metadata": {},
          "execution_count": 3
        }
      ],
      "source": [
        "list=[]\n",
        "for i in range(5):\n",
        "  list.append(i)\n",
        "list\n"
      ]
    },
    {
      "cell_type": "code",
      "source": [
        "list=[i for i in range(5)]\n",
        "list"
      ],
      "metadata": {
        "colab": {
          "base_uri": "https://localhost:8080/"
        },
        "id": "IkU67cKTdPGn",
        "outputId": "66bae471-4742-4e2d-d1b8-e8c6407ffc79"
      },
      "execution_count": null,
      "outputs": [
        {
          "output_type": "execute_result",
          "data": {
            "text/plain": [
              "[0, 1, 2, 3, 4]"
            ]
          },
          "metadata": {},
          "execution_count": 5
        }
      ]
    },
    {
      "cell_type": "code",
      "source": [
        "list=[i for i in range(5) if i%2==0]\n",
        "list"
      ],
      "metadata": {
        "colab": {
          "base_uri": "https://localhost:8080/"
        },
        "id": "WP15hvhhdXSm",
        "outputId": "7ace5268-d5de-4b03-9fd5-fc057eec5f1e"
      },
      "execution_count": null,
      "outputs": [
        {
          "output_type": "execute_result",
          "data": {
            "text/plain": [
              "[0, 2, 4]"
            ]
          },
          "metadata": {},
          "execution_count": 6
        }
      ]
    },
    {
      "cell_type": "code",
      "source": [
        "dict={}\n",
        "for i in range(5):\n",
        "  dict[i]=i*i\n",
        "print(dict)"
      ],
      "metadata": {
        "colab": {
          "base_uri": "https://localhost:8080/"
        },
        "id": "J0avTGH-dtGY",
        "outputId": "621fb0bf-c42b-4d9d-ee6e-0ef980132770"
      },
      "execution_count": null,
      "outputs": [
        {
          "output_type": "stream",
          "name": "stdout",
          "text": [
            "{0: 0, 1: 1, 2: 4, 3: 9, 4: 16}\n"
          ]
        }
      ]
    },
    {
      "cell_type": "code",
      "source": [
        "dict={i:i*i for i in range(5)}\n",
        "dict"
      ],
      "metadata": {
        "colab": {
          "base_uri": "https://localhost:8080/"
        },
        "id": "W7UJDwKweDfB",
        "outputId": "3a76253f-8695-4b6d-a03c-0552b17d80a4"
      },
      "execution_count": null,
      "outputs": [
        {
          "output_type": "execute_result",
          "data": {
            "text/plain": [
              "{0: 0, 1: 1, 2: 4, 3: 9, 4: 16}"
            ]
          },
          "metadata": {},
          "execution_count": 8
        }
      ]
    },
    {
      "cell_type": "code",
      "source": [
        "list=[i for i in range(21) if i%2==0]\n",
        "list"
      ],
      "metadata": {
        "colab": {
          "base_uri": "https://localhost:8080/"
        },
        "id": "flbkPyA8ebR3",
        "outputId": "212cc92b-101d-475b-98af-ddeb02244102"
      },
      "execution_count": null,
      "outputs": [
        {
          "output_type": "execute_result",
          "data": {
            "text/plain": [
              "[0, 2, 4, 6, 8, 10, 12, 14, 16, 18, 20]"
            ]
          },
          "metadata": {},
          "execution_count": 13
        }
      ]
    },
    {
      "cell_type": "code",
      "source": [
        "dict={i:i*i*i for i in range(1,6)}\n",
        "dict"
      ],
      "metadata": {
        "colab": {
          "base_uri": "https://localhost:8080/"
        },
        "id": "K-CnlYZVehKA",
        "outputId": "9ce9855c-607d-472e-9473-5f6c73027617"
      },
      "execution_count": null,
      "outputs": [
        {
          "output_type": "execute_result",
          "data": {
            "text/plain": [
              "{1: 1, 2: 8, 3: 27, 4: 64, 5: 125}"
            ]
          },
          "metadata": {},
          "execution_count": 12
        }
      ]
    },
    {
      "cell_type": "code",
      "source": [
        "set={'apple','banana','apple'}\n",
        "set\n"
      ],
      "metadata": {
        "colab": {
          "base_uri": "https://localhost:8080/"
        },
        "id": "s5u_6hXNeoW4",
        "outputId": "9b9594f7-7025-4f9f-b0fc-129d0c94e882"
      },
      "execution_count": null,
      "outputs": [
        {
          "output_type": "execute_result",
          "data": {
            "text/plain": [
              "{'apple', 'banana'}"
            ]
          },
          "metadata": {},
          "execution_count": 14
        }
      ]
    },
    {
      "cell_type": "code",
      "source": [
        "for num in set:\n",
        "  print(num)\n",
        "\n"
      ],
      "metadata": {
        "colab": {
          "base_uri": "https://localhost:8080/"
        },
        "id": "xlREe4mvgOMY",
        "outputId": "2efb9822-c687-4a25-f538-212b4734f9de"
      },
      "execution_count": null,
      "outputs": [
        {
          "output_type": "stream",
          "name": "stdout",
          "text": [
            "apple\n",
            "banana\n"
          ]
        }
      ]
    },
    {
      "cell_type": "code",
      "source": [
        "try:\n",
        " x=int(input(\"Enter a number:\"))\n",
        " result=10/x\n",
        " print(result)\n",
        "except ZeroDivisionError:\n",
        " print(\"Number cannot be divided by zero\")\n",
        "\n"
      ],
      "metadata": {
        "colab": {
          "base_uri": "https://localhost:8080/"
        },
        "id": "Dql90B6ahIq2",
        "outputId": "b6135bcb-6b94-49d1-9bd9-5b8918ac24ea"
      },
      "execution_count": null,
      "outputs": [
        {
          "output_type": "stream",
          "name": "stdout",
          "text": [
            "Enter a number:4\n",
            "2.5\n"
          ]
        }
      ]
    },
    {
      "cell_type": "code",
      "source": [
        "try:\n",
        " x=input(\"Enter a number:\")\n",
        " result=10/x\n",
        " print(result)\n",
        "except Exception as e:\n",
        " print(f\"Exception: {e}\")\n",
        "\n"
      ],
      "metadata": {
        "colab": {
          "base_uri": "https://localhost:8080/"
        },
        "id": "nnbj0QZPihR1",
        "outputId": "f69510e2-5aed-41c8-8709-60f565a970ed"
      },
      "execution_count": null,
      "outputs": [
        {
          "output_type": "stream",
          "name": "stdout",
          "text": [
            "Enter a number:3\n",
            "Exception: unsupported operand type(s) for /: 'int' and 'str'\n"
          ]
        }
      ]
    },
    {
      "cell_type": "code",
      "source": [
        "def collatz(number):\n",
        " if number%2==0:\n",
        "  even=number//2\n",
        "  print(even)\n",
        "  return even\n",
        " else:\n",
        "  odd=3*number+1\n",
        "  print(odd)\n",
        "  return odd\n",
        "collatz(6)"
      ],
      "metadata": {
        "colab": {
          "base_uri": "https://localhost:8080/"
        },
        "id": "m1xLeo_Ki2-2",
        "outputId": "ccefcb8b-cc4a-4f51-d62b-1d3f3709a295"
      },
      "execution_count": null,
      "outputs": [
        {
          "output_type": "stream",
          "name": "stdout",
          "text": [
            "3\n"
          ]
        },
        {
          "output_type": "execute_result",
          "data": {
            "text/plain": [
              "3"
            ]
          },
          "metadata": {},
          "execution_count": 41
        }
      ]
    },
    {
      "cell_type": "code",
      "source": [
        "def collatz(number):\n",
        " if number%2==0:\n",
        "  even=number//2\n",
        "  print(even)\n",
        "  return even\n",
        " else:\n",
        "  odd=3*number+1\n",
        "  print(odd)\n",
        "  return odd\n",
        "num=int(input(\"Enter a number:\"))\n",
        "while(num!=1):\n",
        " num=collatz(num)"
      ],
      "metadata": {
        "colab": {
          "base_uri": "https://localhost:8080/"
        },
        "id": "4Pz9tWxRmkMS",
        "outputId": "0c93e303-dc8f-4b58-93b9-e7bca25321e9"
      },
      "execution_count": null,
      "outputs": [
        {
          "output_type": "stream",
          "name": "stdout",
          "text": [
            "Enter a number:5\n",
            "16\n",
            "8\n",
            "4\n",
            "2\n",
            "1\n"
          ]
        }
      ]
    },
    {
      "cell_type": "code",
      "source": [
        "def collatz(number):\n",
        " if number%2==0:\n",
        "  even=number//2\n",
        "  print(even)\n",
        "  return even\n",
        " else:\n",
        "  odd=3*number+1\n",
        "  print(odd)\n",
        "  return odd\n",
        "try:\n",
        " num=int(input(\"Enter a number:\"))\n",
        " while(num!=1):\n",
        "  num=collatz(num)\n",
        "except ValueError:\n",
        "  print(\"Invalid choice\")"
      ],
      "metadata": {
        "colab": {
          "base_uri": "https://localhost:8080/"
        },
        "id": "nmC_EmCLoScl",
        "outputId": "a904a1e8-acbb-49e1-b7f3-a802562ff8bf"
      },
      "execution_count": null,
      "outputs": [
        {
          "output_type": "stream",
          "name": "stdout",
          "text": [
            "Enter a number:6.7\n",
            "Invalid choice\n"
          ]
        }
      ]
    }
  ]
}